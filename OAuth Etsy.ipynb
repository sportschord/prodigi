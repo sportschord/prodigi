{
 "cells": [
  {
   "cell_type": "code",
   "execution_count": 1,
   "metadata": {},
   "outputs": [
    {
     "name": "stdout",
     "output_type": "stream",
     "text": [
      "Click to this URL for allow access:\n",
      "https://www.etsy.com/oauth/signin?oauth_consumer_key=m94w251anw6mgf2rifjunlle&oauth_token=66cf3a5c2fe233a2195e6d3acc0f05&service=v2_prod\n",
      "Paste confirm code:12bbc830\n",
      "{'oauth_token': 'dcd5aa119fde2db8274d8b3cef7254', 'oauth_token_secret': 'f5759f70e4'}\n"
     ]
    }
   ],
   "source": [
    "from requests_oauthlib import OAuth1Session, OAuth1\n",
    "from urllib.parse import urlencode\n",
    "\n",
    "\n",
    "key = 'ETSY_KEY'\n",
    "secret = 'ETSY_SECRET'\n",
    "scope = urlencode({'scope': 'transactions_r transactions_w'})\n",
    "request_token_url = f'https://openapi.etsy.com/v2/oauth/request_token?{scope}'\n",
    "access_token_url = 'https://openapi.etsy.com/v2/oauth/access_token'\n",
    "\n",
    "etsy = OAuth1Session(key, client_secret=secret)\n",
    "\n",
    "resp = etsy.fetch_request_token(request_token_url)\n",
    "\n",
    "\n",
    "print('Click to this URL for allow access:')\n",
    "print(resp['login_url'])\n",
    "\n",
    "verifier = input('Paste confirm code:')\n",
    "\n",
    "etsy = OAuth1Session(key, client_secret=secret, resource_owner_key=resp['oauth_token'], resource_owner_secret=resp['oauth_token_secret'])\n",
    "acc_token = etsy.fetch_access_token(access_token_url, verifier=verifier)\n",
    "print(acc_token)\n"
   ]
  }
 ],
 "metadata": {
  "kernelspec": {
   "display_name": "Python 3",
   "language": "python",
   "name": "python3"
  },
  "language_info": {
   "codemirror_mode": {
    "name": "ipython",
    "version": 3
   },
   "file_extension": ".py",
   "mimetype": "text/x-python",
   "name": "python",
   "nbconvert_exporter": "python",
   "pygments_lexer": "ipython3",
   "version": "3.7.4"
  }
 },
 "nbformat": 4,
 "nbformat_minor": 2
}